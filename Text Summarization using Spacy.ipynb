{
 "cells": [
  {
   "cell_type": "code",
   "execution_count": 1,
   "metadata": {},
   "outputs": [],
   "source": [
    "text=\"Machine learning is a subfield of artificial intelligence (AI). The goal of machine learning generally is to understand the structure of data and fit that data into models that can be understood and utilized by people.Although machine learning is a field within computer science, it differs from traditional computational approaches. In traditional computing, algorithms are sets of explicitly programmed instructions used by computers to calculate or problem solve. Machine learning algorithms instead allow for computers to train on data inputs and use statistical analysis in order to output values that fall within a specific range. Because of this, machine learning facilitates computers in building models from sample data in order to automate decision-making processes based on data inputs.Any technology user today has benefitted from machine learning. Facial recognition technology allows social media platforms to help users tag and share photos of friends. Optical character recognition (OCR) technology converts images of text into movable type. Recommendation engines, powered by machine learning, suggest what movies or television shows to watch next based on user preferences. Self-driving cars that rely on machine learning to navigate may soon be available to consumers.Machine learning is a continuously developing field. Because of this, there are some considerations to keep in mind as you work with machine learning methodologies, or analyze the impact of machine learning processes.In this tutorial, we’ll look into the common machine learning methods of supervised and unsupervised learning, and common algorithmic approaches in machine learning, including the k-nearest neighbor algorithm, decision tree learning, and deep learning. We’ll explore which programming languages are most used in machine learning, providing you with some of the positive and negative attributes of each. Additionally, we’ll discuss biases that are perpetuated by machine learning algorithms, and consider what can be kept in mind to prevent these biases when building algorithms.In supervised learning, the computer is provided with example inputs that are labeled with their desired outputs. The purpose of this method is for the algorithm to be able to “learn” by comparing its actual output with the “taught” outputs to find errors, and modify the model accordingly. Supervised learning therefore uses patterns to predict label values on additional unlabeled data.For example, with supervised learning, an algorithm may be fed data with images of sharks labeled as fish and images of oceans labeled as water. By being trained on this data, the supervised learning algorithm should be able to later identify unlabeled shark images as fish and unlabeled ocean images as water.\""
   ]
  },
  {
   "cell_type": "code",
   "execution_count": 2,
   "metadata": {},
   "outputs": [],
   "source": [
    "import spacy"
   ]
  },
  {
   "cell_type": "code",
   "execution_count": 3,
   "metadata": {},
   "outputs": [],
   "source": [
    "from spacy.lang.en.stop_words import STOP_WORDS\n",
    "from string import punctuation"
   ]
  },
  {
   "cell_type": "code",
   "execution_count": 4,
   "metadata": {},
   "outputs": [],
   "source": [
    "stopwords=list(STOP_WORDS)"
   ]
  },
  {
   "cell_type": "code",
   "execution_count": 5,
   "metadata": {},
   "outputs": [],
   "source": [
    "nlp=spacy.load('en_core_web_sm')"
   ]
  },
  {
   "cell_type": "code",
   "execution_count": 6,
   "metadata": {},
   "outputs": [],
   "source": [
    "doc=nlp(text)"
   ]
  },
  {
   "cell_type": "code",
   "execution_count": 7,
   "metadata": {
    "scrolled": true
   },
   "outputs": [
    {
     "data": {
      "text/plain": [
       "Machine learning is a subfield of artificial intelligence (AI). The goal of machine learning generally is to understand the structure of data and fit that data into models that can be understood and utilized by people.Although machine learning is a field within computer science, it differs from traditional computational approaches. In traditional computing, algorithms are sets of explicitly programmed instructions used by computers to calculate or problem solve. Machine learning algorithms instead allow for computers to train on data inputs and use statistical analysis in order to output values that fall within a specific range. Because of this, machine learning facilitates computers in building models from sample data in order to automate decision-making processes based on data inputs.Any technology user today has benefitted from machine learning. Facial recognition technology allows social media platforms to help users tag and share photos of friends. Optical character recognition (OCR) technology converts images of text into movable type. Recommendation engines, powered by machine learning, suggest what movies or television shows to watch next based on user preferences. Self-driving cars that rely on machine learning to navigate may soon be available to consumers.Machine learning is a continuously developing field. Because of this, there are some considerations to keep in mind as you work with machine learning methodologies, or analyze the impact of machine learning processes.In this tutorial, we’ll look into the common machine learning methods of supervised and unsupervised learning, and common algorithmic approaches in machine learning, including the k-nearest neighbor algorithm, decision tree learning, and deep learning. We’ll explore which programming languages are most used in machine learning, providing you with some of the positive and negative attributes of each. Additionally, we’ll discuss biases that are perpetuated by machine learning algorithms, and consider what can be kept in mind to prevent these biases when building algorithms.In supervised learning, the computer is provided with example inputs that are labeled with their desired outputs. The purpose of this method is for the algorithm to be able to “learn” by comparing its actual output with the “taught” outputs to find errors, and modify the model accordingly. Supervised learning therefore uses patterns to predict label values on additional unlabeled data.For example, with supervised learning, an algorithm may be fed data with images of sharks labeled as fish and images of oceans labeled as water. By being trained on this data, the supervised learning algorithm should be able to later identify unlabeled shark images as fish and unlabeled ocean images as water."
      ]
     },
     "execution_count": 7,
     "metadata": {},
     "output_type": "execute_result"
    }
   ],
   "source": [
    "doc"
   ]
  },
  {
   "cell_type": "code",
   "execution_count": 8,
   "metadata": {},
   "outputs": [
    {
     "name": "stdout",
     "output_type": "stream",
     "text": [
      "['Machine', 'learning', 'is', 'a', 'subfield', 'of', 'artificial', 'intelligence', '(', 'AI', ')', '.', 'The', 'goal', 'of', 'machine', 'learning', 'generally', 'is', 'to', 'understand', 'the', 'structure', 'of', 'data', 'and', 'fit', 'that', 'data', 'into', 'models', 'that', 'can', 'be', 'understood', 'and', 'utilized', 'by', 'people', '.', 'Although', 'machine', 'learning', 'is', 'a', 'field', 'within', 'computer', 'science', ',', 'it', 'differs', 'from', 'traditional', 'computational', 'approaches', '.', 'In', 'traditional', 'computing', ',', 'algorithms', 'are', 'sets', 'of', 'explicitly', 'programmed', 'instructions', 'used', 'by', 'computers', 'to', 'calculate', 'or', 'problem', 'solve', '.', 'Machine', 'learning', 'algorithms', 'instead', 'allow', 'for', 'computers', 'to', 'train', 'on', 'data', 'inputs', 'and', 'use', 'statistical', 'analysis', 'in', 'order', 'to', 'output', 'values', 'that', 'fall', 'within', 'a', 'specific', 'range', '.', 'Because', 'of', 'this', ',', 'machine', 'learning', 'facilitates', 'computers', 'in', 'building', 'models', 'from', 'sample', 'data', 'in', 'order', 'to', 'automate', 'decision', '-', 'making', 'processes', 'based', 'on', 'data', 'inputs', '.', 'Any', 'technology', 'user', 'today', 'has', 'benefitted', 'from', 'machine', 'learning', '.', 'Facial', 'recognition', 'technology', 'allows', 'social', 'media', 'platforms', 'to', 'help', 'users', 'tag', 'and', 'share', 'photos', 'of', 'friends', '.', 'Optical', 'character', 'recognition', '(', 'OCR', ')', 'technology', 'converts', 'images', 'of', 'text', 'into', 'movable', 'type', '.', 'Recommendation', 'engines', ',', 'powered', 'by', 'machine', 'learning', ',', 'suggest', 'what', 'movies', 'or', 'television', 'shows', 'to', 'watch', 'next', 'based', 'on', 'user', 'preferences', '.', 'Self', '-', 'driving', 'cars', 'that', 'rely', 'on', 'machine', 'learning', 'to', 'navigate', 'may', 'soon', 'be', 'available', 'to', 'consumers', '.', 'Machine', 'learning', 'is', 'a', 'continuously', 'developing', 'field', '.', 'Because', 'of', 'this', ',', 'there', 'are', 'some', 'considerations', 'to', 'keep', 'in', 'mind', 'as', 'you', 'work', 'with', 'machine', 'learning', 'methodologies', ',', 'or', 'analyze', 'the', 'impact', 'of', 'machine', 'learning', 'processes', '.', 'In', 'this', 'tutorial', ',', 'we', '’ll', 'look', 'into', 'the', 'common', 'machine', 'learning', 'methods', 'of', 'supervised', 'and', 'unsupervised', 'learning', ',', 'and', 'common', 'algorithmic', 'approaches', 'in', 'machine', 'learning', ',', 'including', 'the', 'k', '-', 'nearest', 'neighbor', 'algorithm', ',', 'decision', 'tree', 'learning', ',', 'and', 'deep', 'learning', '.', 'We', '’ll', 'explore', 'which', 'programming', 'languages', 'are', 'most', 'used', 'in', 'machine', 'learning', ',', 'providing', 'you', 'with', 'some', 'of', 'the', 'positive', 'and', 'negative', 'attributes', 'of', 'each', '.', 'Additionally', ',', 'we', '’ll', 'discuss', 'biases', 'that', 'are', 'perpetuated', 'by', 'machine', 'learning', 'algorithms', ',', 'and', 'consider', 'what', 'can', 'be', 'kept', 'in', 'mind', 'to', 'prevent', 'these', 'biases', 'when', 'building', 'algorithms', '.', 'In', 'supervised', 'learning', ',', 'the', 'computer', 'is', 'provided', 'with', 'example', 'inputs', 'that', 'are', 'labeled', 'with', 'their', 'desired', 'outputs', '.', 'The', 'purpose', 'of', 'this', 'method', 'is', 'for', 'the', 'algorithm', 'to', 'be', 'able', 'to', '“', 'learn', '”', 'by', 'comparing', 'its', 'actual', 'output', 'with', 'the', '“', 'taught', '”', 'outputs', 'to', 'find', 'errors', ',', 'and', 'modify', 'the', 'model', 'accordingly', '.', 'Supervised', 'learning', 'therefore', 'uses', 'patterns', 'to', 'predict', 'label', 'values', 'on', 'additional', 'unlabeled', 'data', '.', 'For', 'example', ',', 'with', 'supervised', 'learning', ',', 'an', 'algorithm', 'may', 'be', 'fed', 'data', 'with', 'images', 'of', 'sharks', 'labeled', 'as', 'fish', 'and', 'images', 'of', 'oceans', 'labeled', 'as', 'water', '.', 'By', 'being', 'trained', 'on', 'this', 'data', ',', 'the', 'supervised', 'learning', 'algorithm', 'should', 'be', 'able', 'to', 'later', 'identify', 'unlabeled', 'shark', 'images', 'as', 'fish', 'and', 'unlabeled', 'ocean', 'images', 'as', 'water', '.']\n"
     ]
    }
   ],
   "source": [
    "tokens=[token.text for token in doc]\n",
    "print(tokens)"
   ]
  },
  {
   "cell_type": "code",
   "execution_count": 9,
   "metadata": {},
   "outputs": [],
   "source": [
    "punctuation=punctuation+'\\n'"
   ]
  },
  {
   "cell_type": "code",
   "execution_count": 10,
   "metadata": {},
   "outputs": [],
   "source": [
    "word_frequencies={}\n",
    "for word in doc:\n",
    "    if word.text.lower() not in stopwords:\n",
    "        if word.text.lower() not in punctuation:\n",
    "            if word.text not in word_frequencies.keys():\n",
    "                word_frequencies[word.text]=1\n",
    "            else:\n",
    "                word_frequencies[word.text]+=1 "
   ]
  },
  {
   "cell_type": "code",
   "execution_count": 11,
   "metadata": {},
   "outputs": [
    {
     "data": {
      "text/plain": [
       "{'Machine': 3,\n",
       " 'learning': 22,\n",
       " 'subfield': 1,\n",
       " 'artificial': 1,\n",
       " 'intelligence': 1,\n",
       " 'AI': 1,\n",
       " 'goal': 1,\n",
       " 'machine': 12,\n",
       " 'generally': 1,\n",
       " 'understand': 1,\n",
       " 'structure': 1,\n",
       " 'data': 8,\n",
       " 'fit': 1,\n",
       " 'models': 2,\n",
       " 'understood': 1,\n",
       " 'utilized': 1,\n",
       " 'people': 1,\n",
       " 'field': 2,\n",
       " 'computer': 2,\n",
       " 'science': 1,\n",
       " 'differs': 1,\n",
       " 'traditional': 2,\n",
       " 'computational': 1,\n",
       " 'approaches': 2,\n",
       " 'computing': 1,\n",
       " 'algorithms': 4,\n",
       " 'sets': 1,\n",
       " 'explicitly': 1,\n",
       " 'programmed': 1,\n",
       " 'instructions': 1,\n",
       " 'computers': 3,\n",
       " 'calculate': 1,\n",
       " 'problem': 1,\n",
       " 'solve': 1,\n",
       " 'instead': 1,\n",
       " 'allow': 1,\n",
       " 'train': 1,\n",
       " 'inputs': 3,\n",
       " 'use': 1,\n",
       " 'statistical': 1,\n",
       " 'analysis': 1,\n",
       " 'order': 2,\n",
       " 'output': 2,\n",
       " 'values': 2,\n",
       " 'fall': 1,\n",
       " 'specific': 1,\n",
       " 'range': 1,\n",
       " 'facilitates': 1,\n",
       " 'building': 2,\n",
       " 'sample': 1,\n",
       " 'automate': 1,\n",
       " 'decision': 2,\n",
       " 'making': 1,\n",
       " 'processes': 2,\n",
       " 'based': 2,\n",
       " 'technology': 3,\n",
       " 'user': 2,\n",
       " 'today': 1,\n",
       " 'benefitted': 1,\n",
       " 'Facial': 1,\n",
       " 'recognition': 2,\n",
       " 'allows': 1,\n",
       " 'social': 1,\n",
       " 'media': 1,\n",
       " 'platforms': 1,\n",
       " 'help': 1,\n",
       " 'users': 1,\n",
       " 'tag': 1,\n",
       " 'share': 1,\n",
       " 'photos': 1,\n",
       " 'friends': 1,\n",
       " 'Optical': 1,\n",
       " 'character': 1,\n",
       " 'OCR': 1,\n",
       " 'converts': 1,\n",
       " 'images': 5,\n",
       " 'text': 1,\n",
       " 'movable': 1,\n",
       " 'type': 1,\n",
       " 'Recommendation': 1,\n",
       " 'engines': 1,\n",
       " 'powered': 1,\n",
       " 'suggest': 1,\n",
       " 'movies': 1,\n",
       " 'television': 1,\n",
       " 'shows': 1,\n",
       " 'watch': 1,\n",
       " 'preferences': 1,\n",
       " 'Self': 1,\n",
       " 'driving': 1,\n",
       " 'cars': 1,\n",
       " 'rely': 1,\n",
       " 'navigate': 1,\n",
       " 'soon': 1,\n",
       " 'available': 1,\n",
       " 'consumers': 1,\n",
       " 'continuously': 1,\n",
       " 'developing': 1,\n",
       " 'considerations': 1,\n",
       " 'mind': 2,\n",
       " 'work': 1,\n",
       " 'methodologies': 1,\n",
       " 'analyze': 1,\n",
       " 'impact': 1,\n",
       " 'tutorial': 1,\n",
       " 'look': 1,\n",
       " 'common': 2,\n",
       " 'methods': 1,\n",
       " 'supervised': 4,\n",
       " 'unsupervised': 1,\n",
       " 'algorithmic': 1,\n",
       " 'including': 1,\n",
       " 'k': 1,\n",
       " 'nearest': 1,\n",
       " 'neighbor': 1,\n",
       " 'algorithm': 4,\n",
       " 'tree': 1,\n",
       " 'deep': 1,\n",
       " 'explore': 1,\n",
       " 'programming': 1,\n",
       " 'languages': 1,\n",
       " 'providing': 1,\n",
       " 'positive': 1,\n",
       " 'negative': 1,\n",
       " 'attributes': 1,\n",
       " 'Additionally': 1,\n",
       " 'discuss': 1,\n",
       " 'biases': 2,\n",
       " 'perpetuated': 1,\n",
       " 'consider': 1,\n",
       " 'kept': 1,\n",
       " 'prevent': 1,\n",
       " 'provided': 1,\n",
       " 'example': 2,\n",
       " 'labeled': 3,\n",
       " 'desired': 1,\n",
       " 'outputs': 2,\n",
       " 'purpose': 1,\n",
       " 'method': 1,\n",
       " 'able': 2,\n",
       " '“': 2,\n",
       " 'learn': 1,\n",
       " '”': 2,\n",
       " 'comparing': 1,\n",
       " 'actual': 1,\n",
       " 'taught': 1,\n",
       " 'find': 1,\n",
       " 'errors': 1,\n",
       " 'modify': 1,\n",
       " 'model': 1,\n",
       " 'accordingly': 1,\n",
       " 'Supervised': 1,\n",
       " 'uses': 1,\n",
       " 'patterns': 1,\n",
       " 'predict': 1,\n",
       " 'label': 1,\n",
       " 'additional': 1,\n",
       " 'unlabeled': 3,\n",
       " 'fed': 1,\n",
       " 'sharks': 1,\n",
       " 'fish': 2,\n",
       " 'oceans': 1,\n",
       " 'water': 2,\n",
       " 'trained': 1,\n",
       " 'later': 1,\n",
       " 'identify': 1,\n",
       " 'shark': 1,\n",
       " 'ocean': 1}"
      ]
     },
     "execution_count": 11,
     "metadata": {},
     "output_type": "execute_result"
    }
   ],
   "source": [
    "word_frequencies"
   ]
  },
  {
   "cell_type": "code",
   "execution_count": 12,
   "metadata": {},
   "outputs": [],
   "source": [
    "max_frequencies=max(word_frequencies.values())"
   ]
  },
  {
   "cell_type": "code",
   "execution_count": 13,
   "metadata": {},
   "outputs": [
    {
     "data": {
      "text/plain": [
       "22"
      ]
     },
     "execution_count": 13,
     "metadata": {},
     "output_type": "execute_result"
    }
   ],
   "source": [
    "max_frequencies"
   ]
  },
  {
   "cell_type": "code",
   "execution_count": 14,
   "metadata": {},
   "outputs": [],
   "source": [
    "for word in word_frequencies.keys():\n",
    "    word_frequencies[word]=word_frequencies[word]/max_frequencies"
   ]
  },
  {
   "cell_type": "code",
   "execution_count": 15,
   "metadata": {},
   "outputs": [
    {
     "name": "stdout",
     "output_type": "stream",
     "text": [
      "{'Machine': 0.13636363636363635, 'learning': 1.0, 'subfield': 0.045454545454545456, 'artificial': 0.045454545454545456, 'intelligence': 0.045454545454545456, 'AI': 0.045454545454545456, 'goal': 0.045454545454545456, 'machine': 0.5454545454545454, 'generally': 0.045454545454545456, 'understand': 0.045454545454545456, 'structure': 0.045454545454545456, 'data': 0.36363636363636365, 'fit': 0.045454545454545456, 'models': 0.09090909090909091, 'understood': 0.045454545454545456, 'utilized': 0.045454545454545456, 'people': 0.045454545454545456, 'field': 0.09090909090909091, 'computer': 0.09090909090909091, 'science': 0.045454545454545456, 'differs': 0.045454545454545456, 'traditional': 0.09090909090909091, 'computational': 0.045454545454545456, 'approaches': 0.09090909090909091, 'computing': 0.045454545454545456, 'algorithms': 0.18181818181818182, 'sets': 0.045454545454545456, 'explicitly': 0.045454545454545456, 'programmed': 0.045454545454545456, 'instructions': 0.045454545454545456, 'computers': 0.13636363636363635, 'calculate': 0.045454545454545456, 'problem': 0.045454545454545456, 'solve': 0.045454545454545456, 'instead': 0.045454545454545456, 'allow': 0.045454545454545456, 'train': 0.045454545454545456, 'inputs': 0.13636363636363635, 'use': 0.045454545454545456, 'statistical': 0.045454545454545456, 'analysis': 0.045454545454545456, 'order': 0.09090909090909091, 'output': 0.09090909090909091, 'values': 0.09090909090909091, 'fall': 0.045454545454545456, 'specific': 0.045454545454545456, 'range': 0.045454545454545456, 'facilitates': 0.045454545454545456, 'building': 0.09090909090909091, 'sample': 0.045454545454545456, 'automate': 0.045454545454545456, 'decision': 0.09090909090909091, 'making': 0.045454545454545456, 'processes': 0.09090909090909091, 'based': 0.09090909090909091, 'technology': 0.13636363636363635, 'user': 0.09090909090909091, 'today': 0.045454545454545456, 'benefitted': 0.045454545454545456, 'Facial': 0.045454545454545456, 'recognition': 0.09090909090909091, 'allows': 0.045454545454545456, 'social': 0.045454545454545456, 'media': 0.045454545454545456, 'platforms': 0.045454545454545456, 'help': 0.045454545454545456, 'users': 0.045454545454545456, 'tag': 0.045454545454545456, 'share': 0.045454545454545456, 'photos': 0.045454545454545456, 'friends': 0.045454545454545456, 'Optical': 0.045454545454545456, 'character': 0.045454545454545456, 'OCR': 0.045454545454545456, 'converts': 0.045454545454545456, 'images': 0.22727272727272727, 'text': 0.045454545454545456, 'movable': 0.045454545454545456, 'type': 0.045454545454545456, 'Recommendation': 0.045454545454545456, 'engines': 0.045454545454545456, 'powered': 0.045454545454545456, 'suggest': 0.045454545454545456, 'movies': 0.045454545454545456, 'television': 0.045454545454545456, 'shows': 0.045454545454545456, 'watch': 0.045454545454545456, 'preferences': 0.045454545454545456, 'Self': 0.045454545454545456, 'driving': 0.045454545454545456, 'cars': 0.045454545454545456, 'rely': 0.045454545454545456, 'navigate': 0.045454545454545456, 'soon': 0.045454545454545456, 'available': 0.045454545454545456, 'consumers': 0.045454545454545456, 'continuously': 0.045454545454545456, 'developing': 0.045454545454545456, 'considerations': 0.045454545454545456, 'mind': 0.09090909090909091, 'work': 0.045454545454545456, 'methodologies': 0.045454545454545456, 'analyze': 0.045454545454545456, 'impact': 0.045454545454545456, 'tutorial': 0.045454545454545456, 'look': 0.045454545454545456, 'common': 0.09090909090909091, 'methods': 0.045454545454545456, 'supervised': 0.18181818181818182, 'unsupervised': 0.045454545454545456, 'algorithmic': 0.045454545454545456, 'including': 0.045454545454545456, 'k': 0.045454545454545456, 'nearest': 0.045454545454545456, 'neighbor': 0.045454545454545456, 'algorithm': 0.18181818181818182, 'tree': 0.045454545454545456, 'deep': 0.045454545454545456, 'explore': 0.045454545454545456, 'programming': 0.045454545454545456, 'languages': 0.045454545454545456, 'providing': 0.045454545454545456, 'positive': 0.045454545454545456, 'negative': 0.045454545454545456, 'attributes': 0.045454545454545456, 'Additionally': 0.045454545454545456, 'discuss': 0.045454545454545456, 'biases': 0.09090909090909091, 'perpetuated': 0.045454545454545456, 'consider': 0.045454545454545456, 'kept': 0.045454545454545456, 'prevent': 0.045454545454545456, 'provided': 0.045454545454545456, 'example': 0.09090909090909091, 'labeled': 0.13636363636363635, 'desired': 0.045454545454545456, 'outputs': 0.09090909090909091, 'purpose': 0.045454545454545456, 'method': 0.045454545454545456, 'able': 0.09090909090909091, '“': 0.09090909090909091, 'learn': 0.045454545454545456, '”': 0.09090909090909091, 'comparing': 0.045454545454545456, 'actual': 0.045454545454545456, 'taught': 0.045454545454545456, 'find': 0.045454545454545456, 'errors': 0.045454545454545456, 'modify': 0.045454545454545456, 'model': 0.045454545454545456, 'accordingly': 0.045454545454545456, 'Supervised': 0.045454545454545456, 'uses': 0.045454545454545456, 'patterns': 0.045454545454545456, 'predict': 0.045454545454545456, 'label': 0.045454545454545456, 'additional': 0.045454545454545456, 'unlabeled': 0.13636363636363635, 'fed': 0.045454545454545456, 'sharks': 0.045454545454545456, 'fish': 0.09090909090909091, 'oceans': 0.045454545454545456, 'water': 0.09090909090909091, 'trained': 0.045454545454545456, 'later': 0.045454545454545456, 'identify': 0.045454545454545456, 'shark': 0.045454545454545456, 'ocean': 0.045454545454545456}\n"
     ]
    }
   ],
   "source": [
    "print(word_frequencies)"
   ]
  },
  {
   "cell_type": "code",
   "execution_count": 16,
   "metadata": {},
   "outputs": [
    {
     "name": "stdout",
     "output_type": "stream",
     "text": [
      "[Machine learning is a subfield of artificial intelligence (AI)., The goal of machine learning generally is to understand the structure of data and fit that data into models that can be understood and utilized by people., Although machine learning is a field within computer science, it differs from traditional computational approaches., In traditional computing, algorithms are sets of explicitly programmed instructions used by computers to calculate or problem solve., Machine learning algorithms instead allow for computers to train on data inputs and use statistical analysis in order to output values that fall within a specific range., Because of this, machine learning facilitates computers in building models from sample data in order to automate decision-making processes based on data inputs., Any technology user today has benefitted from machine learning., Facial recognition technology allows social media platforms to help users tag and share photos of friends., Optical character recognition (OCR) technology converts images of text into movable type., Recommendation engines, powered by machine learning, suggest what movies or television shows to watch next based on user preferences., Self-driving cars that rely on machine learning to navigate may soon be available to consumers., Machine learning is a continuously developing field., Because of this, there are some considerations to keep in mind as you work with machine learning methodologies, or analyze the impact of machine learning processes., In this tutorial, we’ll look into the common machine learning methods of supervised and unsupervised learning, and common algorithmic approaches in machine learning, including the k-nearest neighbor algorithm, decision tree learning, and deep learning., We’ll explore which programming languages are most used in machine learning, providing you with some of the positive and negative attributes of each., Additionally, we’ll discuss biases that are perpetuated by machine learning algorithms, and consider what can be kept in mind to prevent these biases when building algorithms., In supervised learning, the computer is provided with example inputs that are labeled with their desired outputs., The purpose of this method is for the algorithm to be able to “learn” by comparing its actual output with the “taught” outputs to find errors, and modify the model accordingly., Supervised learning therefore uses patterns to predict label values on additional unlabeled data., For example, with supervised learning, an algorithm may be fed data with images of sharks labeled as fish and images of oceans labeled as water., By being trained on this data, the supervised learning algorithm should be able to later identify unlabeled shark images as fish and unlabeled ocean images as water.]\n"
     ]
    }
   ],
   "source": [
    "#sentence tokenization\n",
    "\n",
    "sentence_tokens=[sent for sent in doc.sents]\n",
    "print(sentence_tokens)"
   ]
  },
  {
   "cell_type": "code",
   "execution_count": 17,
   "metadata": {},
   "outputs": [],
   "source": [
    "sentence_scores={}\n",
    "for sent in sentence_tokens:\n",
    "    for word in sent:\n",
    "        if word.text.lower() in word_frequencies.keys():\n",
    "            if sent not in sentence_scores.keys():\n",
    "                sentence_scores[sent]=word_frequencies[word.text.lower()]\n",
    "            else:\n",
    "                sentence_scores[sent]+=word_frequencies[word.text.lower()]\n",
    "                "
   ]
  },
  {
   "cell_type": "code",
   "execution_count": 18,
   "metadata": {},
   "outputs": [],
   "source": [
    "from heapq import nlargest"
   ]
  },
  {
   "cell_type": "code",
   "execution_count": 19,
   "metadata": {},
   "outputs": [
    {
     "data": {
      "text/plain": [
       "6"
      ]
     },
     "execution_count": 19,
     "metadata": {},
     "output_type": "execute_result"
    }
   ],
   "source": [
    "select_length = int(len(sentence_tokens)*0.3)\n",
    "select_length"
   ]
  },
  {
   "cell_type": "code",
   "execution_count": 20,
   "metadata": {},
   "outputs": [],
   "source": [
    "summary = nlargest(select_length, sentence_scores)"
   ]
  },
  {
   "cell_type": "code",
   "execution_count": 21,
   "metadata": {},
   "outputs": [
    {
     "data": {
      "text/plain": [
       "[By being trained on this data, the supervised learning algorithm should be able to later identify unlabeled shark images as fish and unlabeled ocean images as water.,\n",
       " For example, with supervised learning, an algorithm may be fed data with images of sharks labeled as fish and images of oceans labeled as water.,\n",
       " Supervised learning therefore uses patterns to predict label values on additional unlabeled data.,\n",
       " The purpose of this method is for the algorithm to be able to “learn” by comparing its actual output with the “taught” outputs to find errors, and modify the model accordingly.,\n",
       " In supervised learning, the computer is provided with example inputs that are labeled with their desired outputs.,\n",
       " Additionally, we’ll discuss biases that are perpetuated by machine learning algorithms, and consider what can be kept in mind to prevent these biases when building algorithms.]"
      ]
     },
     "execution_count": 21,
     "metadata": {},
     "output_type": "execute_result"
    }
   ],
   "source": [
    "summary"
   ]
  },
  {
   "cell_type": "code",
   "execution_count": 22,
   "metadata": {},
   "outputs": [],
   "source": [
    "final_summary=[word.text for word in summary]"
   ]
  },
  {
   "cell_type": "code",
   "execution_count": 23,
   "metadata": {},
   "outputs": [
    {
     "name": "stdout",
     "output_type": "stream",
     "text": [
      "By being trained on this data, the supervised learning algorithm should be able to later identify unlabeled shark images as fish and unlabeled ocean images as water.For example, with supervised learning, an algorithm may be fed data with images of sharks labeled as fish and images of oceans labeled as water.Supervised learning therefore uses patterns to predict label values on additional unlabeled data.The purpose of this method is for the algorithm to be able to “learn” by comparing its actual output with the “taught” outputs to find errors, and modify the model accordingly.In supervised learning, the computer is provided with example inputs that are labeled with their desired outputs.Additionally, we’ll discuss biases that are perpetuated by machine learning algorithms, and consider what can be kept in mind to prevent these biases when building algorithms.\n"
     ]
    }
   ],
   "source": [
    "summary=''.join(final_summary)\n",
    "print(summary)"
   ]
  },
  {
   "cell_type": "code",
   "execution_count": 24,
   "metadata": {},
   "outputs": [
    {
     "data": {
      "text/plain": [
       "2780"
      ]
     },
     "execution_count": 24,
     "metadata": {},
     "output_type": "execute_result"
    }
   ],
   "source": [
    "len(text)"
   ]
  },
  {
   "cell_type": "code",
   "execution_count": 25,
   "metadata": {},
   "outputs": [
    {
     "data": {
      "text/plain": [
       "870"
      ]
     },
     "execution_count": 25,
     "metadata": {},
     "output_type": "execute_result"
    }
   ],
   "source": [
    "len(summary)"
   ]
  },
  {
   "cell_type": "code",
   "execution_count": null,
   "metadata": {},
   "outputs": [],
   "source": []
  }
 ],
 "metadata": {
  "kernelspec": {
   "display_name": "Python 3",
   "language": "python",
   "name": "python3"
  },
  "language_info": {
   "codemirror_mode": {
    "name": "ipython",
    "version": 3
   },
   "file_extension": ".py",
   "mimetype": "text/x-python",
   "name": "python",
   "nbconvert_exporter": "python",
   "pygments_lexer": "ipython3",
   "version": "3.7.6"
  }
 },
 "nbformat": 4,
 "nbformat_minor": 4
}
